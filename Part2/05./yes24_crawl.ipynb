{
 "cells": [
  {
   "cell_type": "markdown",
   "metadata": {},
   "source": [
    "### 예스 24 크롤링"
   ]
  },
  {
   "cell_type": "code",
   "execution_count": 1,
   "metadata": {},
   "outputs": [
    {
     "data": {
      "text/plain": [
       "'/Users/hj/.wdm/drivers/chromedriver/mac64/120.0.6099.109/chromedriver-mac-arm64/chromedriver'"
      ]
     },
     "execution_count": 1,
     "metadata": {},
     "output_type": "execute_result"
    }
   ],
   "source": [
    "# webdriver-manager 라이브러리 불러오기\n",
    "from webdriver_manager.chrome import ChromeDriverManager\n",
    "ChromeDriverManager().install()"
   ]
  },
  {
   "cell_type": "code",
   "execution_count": 2,
   "metadata": {},
   "outputs": [],
   "source": [
    "from selenium import webdriver\n",
    "browser = webdriver.Chrome()"
   ]
  },
  {
   "cell_type": "code",
   "execution_count": 3,
   "metadata": {},
   "outputs": [],
   "source": [
    "url = 'https://google.com'\n",
    "browser.get(url)"
   ]
  },
  {
   "cell_type": "code",
   "execution_count": 4,
   "metadata": {},
   "outputs": [
    {
     "data": {
      "text/plain": [
       "'대한민국'"
      ]
     },
     "execution_count": 4,
     "metadata": {},
     "output_type": "execute_result"
    }
   ],
   "source": [
    "from selenium.webdriver.common.by import By\n",
    "\n",
    "browser.find_element(By.CLASS_NAME, \"uU7dJb\").text"
   ]
  },
  {
   "cell_type": "code",
   "execution_count": 5,
   "metadata": {},
   "outputs": [],
   "source": [
    "url = 'https://www.yes24.com/Product/category/bestseller?CategoryNumber=001&sumgb=06'\n",
    "browser.get(url)"
   ]
  },
  {
   "cell_type": "code",
   "execution_count": 6,
   "metadata": {},
   "outputs": [
    {
     "name": "stdout",
     "output_type": "stream",
     "text": [
      "https://www.yes24.com/Product/Goods/124574394\n",
      "https://www.yes24.com/Product/Goods/122120495\n",
      "https://www.yes24.com/Product/Goods/117014613\n",
      "https://www.yes24.com/Product/Goods/123675187\n",
      "https://www.yes24.com/Product/Goods/124112599\n",
      "https://www.yes24.com/Product/Goods/124043812\n",
      "https://www.yes24.com/Product/Goods/124043802\n",
      "https://www.yes24.com/Product/Goods/124501342\n",
      "https://www.yes24.com/Product/Goods/123930880\n",
      "https://www.yes24.com/Product/Goods/122090360\n",
      "https://www.yes24.com/Product/Goods/123930891\n",
      "https://www.yes24.com/Product/Goods/122944685\n",
      "https://www.yes24.com/Product/Goods/124127709\n",
      "https://www.yes24.com/Product/Goods/124341556\n",
      "https://www.yes24.com/Product/Goods/118579613\n",
      "https://www.yes24.com/Product/Goods/122426425\n",
      "https://www.yes24.com/Product/Goods/123155346\n",
      "https://www.yes24.com/Product/Goods/122428190\n",
      "https://www.yes24.com/Product/Goods/123400303\n",
      "https://www.yes24.com/Product/Goods/124489213\n",
      "https://www.yes24.com/Product/Goods/124341408\n",
      "https://www.yes24.com/Product/Goods/118413014\n",
      "https://www.yes24.com/Product/Goods/79297023\n",
      "https://www.yes24.com/Product/Goods/124027690\n"
     ]
    }
   ],
   "source": [
    "# 1페이지의 링크 데이터 전부 수집\n",
    "\n",
    "### 한 개의 베스트 셀러 링크 수집\n",
    "browser.find_element(By.CLASS_NAME, 'gd_name').get_attribute('href')\n",
    "\n",
    "### 1페이지 전체의 링크 데이터\n",
    "# browser.find_element(By.CLASS_NAME, 'gd_name') # element : 요소\n",
    "datas = browser.find_elements(By.CLASS_NAME, 'gd_name') # elements : 리스트\n",
    "\n",
    "for i in datas:\n",
    "    print(i.get_attribute('href'))"
   ]
  },
  {
   "cell_type": "code",
   "execution_count": 7,
   "metadata": {},
   "outputs": [
    {
     "name": "stdout",
     "output_type": "stream",
     "text": [
      "********** 현재 1페이지 수집 중 입니다. **********\n",
      "********** 현재 2페이지 수집 중 입니다. **********\n",
      "********** 현재 3페이지 수집 중 입니다. **********\n",
      "['https://www.yes24.com/Product/Goods/124574394', 'https://www.yes24.com/Product/Goods/122120495', 'https://www.yes24.com/Product/Goods/117014613', 'https://www.yes24.com/Product/Goods/123675187', 'https://www.yes24.com/Product/Goods/124112599', 'https://www.yes24.com/Product/Goods/124043812', 'https://www.yes24.com/Product/Goods/124043802', 'https://www.yes24.com/Product/Goods/124501342', 'https://www.yes24.com/Product/Goods/123930880', 'https://www.yes24.com/Product/Goods/122090360', 'https://www.yes24.com/Product/Goods/123930891', 'https://www.yes24.com/Product/Goods/122944685', 'https://www.yes24.com/Product/Goods/124127709', 'https://www.yes24.com/Product/Goods/124341556', 'https://www.yes24.com/Product/Goods/118579613', 'https://www.yes24.com/Product/Goods/122426425', 'https://www.yes24.com/Product/Goods/123155346', 'https://www.yes24.com/Product/Goods/122428190', 'https://www.yes24.com/Product/Goods/123400303', 'https://www.yes24.com/Product/Goods/124489213', 'https://www.yes24.com/Product/Goods/124341408', 'https://www.yes24.com/Product/Goods/118413014', 'https://www.yes24.com/Product/Goods/79297023', 'https://www.yes24.com/Product/Goods/124027690', 'https://www.yes24.com/Product/Goods/67362730', 'https://www.yes24.com/Product/Goods/116467955', 'https://www.yes24.com/Product/Goods/123623040', 'https://www.yes24.com/Product/Goods/119562091', 'https://www.yes24.com/Product/Goods/123623043', 'https://www.yes24.com/Product/Goods/119120517', 'https://www.yes24.com/Product/Goods/124014108', 'https://www.yes24.com/Product/Goods/124213135', 'https://www.yes24.com/Product/Goods/118569079', 'https://www.yes24.com/Product/Goods/91868954', 'https://www.yes24.com/Product/Goods/120785860', 'https://www.yes24.com/Product/Goods/123930960', 'https://www.yes24.com/Product/Goods/124472862', 'https://www.yes24.com/Product/Goods/124341067', 'https://www.yes24.com/Product/Goods/124315134', 'https://www.yes24.com/Product/Goods/123876440', 'https://www.yes24.com/Product/Goods/114853233', 'https://www.yes24.com/Product/Goods/124219505', 'https://www.yes24.com/Product/Goods/123664943', 'https://www.yes24.com/Product/Goods/124157362', 'https://www.yes24.com/Product/Goods/124300539', 'https://www.yes24.com/Product/Goods/119458052', 'https://www.yes24.com/Product/Goods/124397623', 'https://www.yes24.com/Product/Goods/120761010', 'https://www.yes24.com/Product/Goods/90428162', 'https://www.yes24.com/Product/Goods/123814844', 'https://www.yes24.com/Product/Goods/123318244', 'https://www.yes24.com/Product/Goods/122865851', 'https://www.yes24.com/Product/Goods/122786183', 'https://www.yes24.com/Product/Goods/122433629', 'https://www.yes24.com/Product/Goods/124225344', 'https://www.yes24.com/Product/Goods/124315515', 'https://www.yes24.com/Product/Goods/9349031', 'https://www.yes24.com/Product/Goods/124472702', 'https://www.yes24.com/Product/Goods/121911671', 'https://www.yes24.com/Product/Goods/122880691', 'https://www.yes24.com/Product/Goods/8759796', 'https://www.yes24.com/Product/Goods/123153430', 'https://www.yes24.com/Product/Goods/124106975', 'https://www.yes24.com/Product/Goods/16384156', 'https://www.yes24.com/Product/Goods/96794060', 'https://www.yes24.com/Product/Goods/69655504', 'https://www.yes24.com/Product/Goods/116020437', 'https://www.yes24.com/Product/Goods/106369008', 'https://www.yes24.com/Product/Goods/124411457', 'https://www.yes24.com/Product/Goods/106711883', 'https://www.yes24.com/Product/Goods/115475489', 'https://www.yes24.com/Product/Goods/123899667']\n"
     ]
    }
   ],
   "source": [
    "# 3페이지까지 링크 데이터 전부 수집\n",
    "# https://www.yes24.com/Product/Category/BestSeller?categoryNumber=001&pageNumber=1&pageSize=24\n",
    "# https://www.yes24.com/Product/Category/BestSeller?categoryNumber=001&pageNumber=2&pageSize=24\n",
    "# https://www.yes24.com/Product/Category/BestSeller?categoryNumber=001&pageNumber=3&pageSize=24\n",
    "\n",
    "import time\n",
    "\n",
    "link_list = []\n",
    "for i in range(1, 4):\n",
    "    print(\"*\" * 10, f\"현재 {i}페이지 수집 중 입니다.\", \"*\" * 10)\n",
    "    url = f'https://www.yes24.com/Product/Category/BestSeller?categoryNumber=001&pageNumber={i}&pageSize=24'\n",
    "    browser.get(url)\n",
    "\n",
    "    browser.find_element(By.CLASS_NAME, 'gd_name').get_attribute('href')\n",
    "    ### 1페이지 전체의 링크 데이터\n",
    "    # browser.find_element(By.CLASS_NAME, 'gd_name') # element : 요소\n",
    "    datas = browser.find_elements(By.CLASS_NAME, 'gd_name') # elements : 리스트\n",
    "\n",
    "    for i in datas:\n",
    "        link = i.get_attribute('href')\n",
    "        link_list.append(link)\n",
    "\n",
    "    time.sleep(3)\n",
    "\n",
    "print(link_list)"
   ]
  },
  {
   "cell_type": "code",
   "execution_count": 8,
   "metadata": {},
   "outputs": [
    {
     "data": {
      "text/plain": [
       "72"
      ]
     },
     "execution_count": 8,
     "metadata": {},
     "output_type": "execute_result"
    }
   ],
   "source": [
    "len(link_list)"
   ]
  },
  {
   "cell_type": "code",
   "execution_count": 19,
   "metadata": {},
   "outputs": [
    {
     "data": {
      "text/plain": [
       "('타키 포오 코믹 어드벤처 4',\n",
       " '캐릭온TV 원저/안도감 글/김규태 그림',\n",
       " '대원씨아이(단행)(대원키즈)',\n",
       " '',\n",
       " '',\n",
       " '',\n",
       " '31,467',\n",
       " '14,500')"
      ]
     },
     "execution_count": 19,
     "metadata": {},
     "output_type": "execute_result"
    }
   ],
   "source": [
    "# for link in link_list:\n",
    "#     # 상세 페이지로 이동\n",
    "#     browser.get(link)\n",
    "\n",
    "browser.get(link_list[36])\n",
    "\n",
    "title = browser.find_element(By.CLASS_NAME, 'gd_name').text\n",
    "author = browser.find_element(By.CLASS_NAME, 'gd_auth').text\n",
    "publisher = browser.find_element(By.CLASS_NAME, 'gd_pub').text\n",
    "publishing = browser.find_element(By.CLASS_NAME, 'gd_date').text\n",
    "rating = browser.find_element(By.CLASS_NAME, 'yes_b').text\n",
    "review = browser.find_element(By.CLASS_NAME, 'txC_blue').text\n",
    "sales = browser.find_element(By.CLASS_NAME, 'gd_sellNum').text.split(\" \")[2]\n",
    "price = browser.find_element(By.CLASS_NAME, 'yes_m').text[:-1]\n",
    "# ranking = browser.find_element(By.CLASS_NAME, 'gd_best').text.split(\" | \")[0]\n",
    "# ranking_weeks = browser.find_element(By.CLASS_NAME, 'gd_best').text.split(\" | \")[1]\n",
    "\n",
    "title, author, publisher, publishing, rating, review, sales, price\n"
   ]
  },
  {
   "cell_type": "code",
   "execution_count": null,
   "metadata": {},
   "outputs": [],
   "source": [
    "# 데이터 베이스 연동 후 > 수집한 데이터를 DB에 저장 (csv)\n",
    "import pymysql # pip install pymysql\n",
    "import time\n",
    "import re\n",
    "from datetime import datetime\n",
    "\n",
    "conn = pymysql.connect(\n",
    "    host = 'localhost',\n",
    "    user = 'root',\n",
    "    password = '0000',\n",
    "    db = 'yes24',\n",
    "    charset = 'utf8mb4',\n",
    "    cursorclass=pymysql.cursors.DictCursor\n",
    ")\n",
    "\n",
    "with conn.cursor() as cur:\n",
    "\n",
    "    for link in link_list:\n",
    "        browser.get(link)\n",
    "\n",
    "        title = browser.find_element(By.CLASS_NAME, 'gd_name').text\n",
    "        author = browser.find_element(By.CLASS_NAME, 'gd_auth').text\n",
    "        publisher = browser.find_element(By.CLASS_NAME, 'gd_pub').text\n",
    "        publishing = browser.find_element(By.CLASS_NAME, 'gd_date').text\n",
    "\n",
    "        match = re.search(r'(\\d+)년 (\\d+)월 (\\d+)일', publishing)\n",
    "\n",
    "        if match:\n",
    "            # 그룹들을 얻어옴\n",
    "            groups = match.groups()\n",
    "\n",
    "                # 그룹이 세 개인지 확인\n",
    "            if len(groups) == 3:\n",
    "                year, month, day = groups\n",
    "                data_obj = datetime(int(year), int(month), int(day))\n",
    "                publishing = data_obj.strftime(\"%Y-%m-%d\")\n",
    "            else:\n",
    "                    publishing = \"2023-01-01\"\n",
    "        else:\n",
    "            publishing = \"2023-01-01\"\n",
    "\n",
    "\n",
    "        # rating = browser.find_element(By.CLASS_NAME, 'yes_b').text\n",
    "\n",
    "        try:\n",
    "            rating_text = browser.find_element(By.CLASS_NAME, 'yes_b').text\n",
    "            # 쉼표 제거 후 정수로 변환\n",
    "            rating = int(rating_text.replace(\",\", \"\"))\n",
    "        except:\n",
    "            rating = 0\n",
    "\n",
    "        try:\n",
    "            review = browser.find_element(By.CLASS_NAME, 'txC_blue').text\n",
    "            review = int(review.replace(\",\", \"\"))\n",
    "        except:\n",
    "            review = 0\n",
    "\n",
    "        # review = browser.find_element(By.CLASS_NAME, 'txC_blue').text\n",
    "        # review = int(review.replace(\",\", \"\"))\n",
    "        \n",
    "        try:\n",
    "            sales = browser.find_element(By.CLASS_NAME, 'gd_sellNum').text.split(\" \")[2]\n",
    "            sales = int(sales.replace(\",\", \"\"))\n",
    "        except (IndexError, ValueError):\n",
    "            sales = 0\n",
    "\n",
    "        # sales = browser.find_element(By.CLASS_NAME, 'gd_sellNum').text.split(\" \")[2]\n",
    "        # sales = int(sales.replace(\",\", \"\"))\n",
    "\n",
    "        price = browser.find_element(By.CLASS_NAME, 'yes_m').text[:-1]\n",
    "        price = int(price.replace(\",\", \"\"))\n",
    "\n",
    "        full_text = browser.find_element(By.CLASS_NAME, 'gd_best').text\n",
    "        parts = full_text.split(\" | \")\n",
    "\n",
    "        if len(parts) == 1:\n",
    "            ranking = 0\n",
    "            ranking_weeks = 0\n",
    "        else:\n",
    "\n",
    "        \n",
    "            try:\n",
    "                ranking_part = parts[0]\n",
    "                ranking = ''.join(filter(str.isdigit, ranking_part))\n",
    "            except:\n",
    "                ranking = 0\n",
    "\n",
    "            try:\n",
    "                ranking_weeks_part = parts[1]\n",
    "                ranking_weeks = ''.join(filter(str.isdigit, ranking_weeks_part.split()[-1]))\n",
    "            except:\n",
    "                ranking_weeks = 0\n",
    "\n",
    "                # ranking = browser.find_element(By.CLASS_NAME, 'gd_best').text.split(\" | \")[0]\n",
    "                # ranking_weeks = browser.find_element(By.CLASS_NAME, 'gd_best').text.split(\" | \")[1]\n",
    "\n",
    "        sql = \"INSERT INTO Books(title, author, publisher, publishing, rating, review, sales, price, ranking, ranking_weeks)VALUES(%s, %s, %s, %s, %s, %s, %s, %s, %s, %s)\"\n",
    "\n",
    "        cur.execute(sql, (title, author, publisher, publishing, rating, review, sales, price, ranking, ranking_weeks))\n",
    "        conn.commit()\n",
    "\n",
    "        time.sleep(2)"
   ]
  }
 ],
 "metadata": {
  "kernelspec": {
   "display_name": ".venv",
   "language": "python",
   "name": "python3"
  },
  "language_info": {
   "codemirror_mode": {
    "name": "ipython",
    "version": 3
   },
   "file_extension": ".py",
   "mimetype": "text/x-python",
   "name": "python",
   "nbconvert_exporter": "python",
   "pygments_lexer": "ipython3",
   "version": "3.10.13"
  }
 },
 "nbformat": 4,
 "nbformat_minor": 2
}
