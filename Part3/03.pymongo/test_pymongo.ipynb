{
 "cells": [
  {
   "cell_type": "markdown",
   "metadata": {},
   "source": [
    "### PyMongoDB"
   ]
  },
  {
   "cell_type": "markdown",
   "metadata": {},
   "source": [
    "##### (1) 설치"
   ]
  },
  {
   "cell_type": "code",
   "execution_count": null,
   "metadata": {},
   "outputs": [],
   "source": [
    "%pip install pymongo"
   ]
  },
  {
   "cell_type": "markdown",
   "metadata": {},
   "source": [
    "##### (2) DB 연결"
   ]
  },
  {
   "cell_type": "code",
   "execution_count": 2,
   "metadata": {},
   "outputs": [
    {
     "data": {
      "text/plain": [
       "MongoClient(host=['localhost:27017'], document_class=dict, tz_aware=False, connect=True)"
      ]
     },
     "execution_count": 2,
     "metadata": {},
     "output_type": "execute_result"
    }
   ],
   "source": [
    "from pymongo import MongoClient\n",
    "\n",
    "# MongoDB 인스턴트 연결\n",
    "client = MongoClient('mongodb://localhost:27017/')\n",
    "client"
   ]
  },
  {
   "cell_type": "code",
   "execution_count": 3,
   "metadata": {},
   "outputs": [
    {
     "data": {
      "text/plain": [
       "Database(MongoClient(host=['localhost:27017'], document_class=dict, tz_aware=False, connect=True), 'example_db')"
      ]
     },
     "execution_count": 3,
     "metadata": {},
     "output_type": "execute_result"
    }
   ],
   "source": [
    "# 데이터베이스 선택 (없으면 자동 선택)\n",
    "db = client['example_db']\n",
    "db"
   ]
  },
  {
   "cell_type": "code",
   "execution_count": 4,
   "metadata": {},
   "outputs": [
    {
     "data": {
      "text/plain": [
       "Collection(Database(MongoClient(host=['localhost:27017'], document_class=dict, tz_aware=False, connect=True), 'example_db'), 'example_colletion')"
      ]
     },
     "execution_count": 4,
     "metadata": {},
     "output_type": "execute_result"
    }
   ],
   "source": [
    "# 콜렉션 선택 (없으면 자동 생성)\n",
    "collection = db['example_colletion']\n",
    "collection"
   ]
  },
  {
   "cell_type": "markdown",
   "metadata": {},
   "source": [
    "##### (3) CRUD"
   ]
  },
  {
   "cell_type": "code",
   "execution_count": 10,
   "metadata": {},
   "outputs": [
    {
     "data": {
      "text/plain": [
       "InsertOneResult(ObjectId('65a73b34d7aa206beb713925'), acknowledged=True)"
      ]
     },
     "execution_count": 10,
     "metadata": {},
     "output_type": "execute_result"
    }
   ],
   "source": [
    "# 새 문서 삽입\n",
    "example_document = {\"name\": \"john\", \"age\": 30, \"city\": \"New York\"}\n",
    "collection.insert_one(example_document)"
   ]
  },
  {
   "cell_type": "code",
   "execution_count": 11,
   "metadata": {},
   "outputs": [
    {
     "name": "stdout",
     "output_type": "stream",
     "text": [
      "{'_id': ObjectId('65a73adfd7aa206beb713922'), 'name': 'john', 'age': 30, 'city': 'New York'}\n",
      "{'_id': ObjectId('65a73b33d7aa206beb713923'), 'name': 'john', 'age': 30, 'city': 'New York'}\n",
      "{'_id': ObjectId('65a73b33d7aa206beb713924'), 'name': 'john', 'age': 30, 'city': 'New York'}\n",
      "{'_id': ObjectId('65a73b34d7aa206beb713925'), 'name': 'john', 'age': 30, 'city': 'New York'}\n"
     ]
    }
   ],
   "source": [
    "# 모든 문서 조회\n",
    "for doc in collection.find():\n",
    "    print(doc)"
   ]
  },
  {
   "cell_type": "code",
   "execution_count": 12,
   "metadata": {},
   "outputs": [
    {
     "name": "stdout",
     "output_type": "stream",
     "text": [
      "{'_id': ObjectId('65a73adfd7aa206beb713922'), 'name': 'john', 'age': 30, 'city': 'New York'}\n",
      "{'_id': ObjectId('65a73b33d7aa206beb713923'), 'name': 'john', 'age': 30, 'city': 'New York'}\n",
      "{'_id': ObjectId('65a73b33d7aa206beb713924'), 'name': 'john', 'age': 30, 'city': 'New York'}\n",
      "{'_id': ObjectId('65a73b34d7aa206beb713925'), 'name': 'john', 'age': 30, 'city': 'New York'}\n"
     ]
    }
   ],
   "source": [
    "# 조건에 맞는 문서 조회\n",
    "query = {\"name\": \"john\"}\n",
    "for doc in collection.find(query):\n",
    "    print(doc)"
   ]
  },
  {
   "cell_type": "code",
   "execution_count": 14,
   "metadata": {},
   "outputs": [
    {
     "name": "stdout",
     "output_type": "stream",
     "text": [
      "{'_id': ObjectId('65a73adfd7aa206beb713922'), 'name': 'john', 'age': 31, 'city': 'New York'}\n",
      "{'_id': ObjectId('65a73b33d7aa206beb713923'), 'name': 'john', 'age': 30, 'city': 'New York'}\n",
      "{'_id': ObjectId('65a73b33d7aa206beb713924'), 'name': 'john', 'age': 30, 'city': 'New York'}\n",
      "{'_id': ObjectId('65a73b34d7aa206beb713925'), 'name': 'john', 'age': 30, 'city': 'New York'}\n"
     ]
    }
   ],
   "source": [
    "# 하나의 문서 업데이트\n",
    "collection.update_one({\"name\": \"john\"}, {\"$set\": {\"age\": 31}})\n",
    "\n",
    "for doc in collection.find(query):\n",
    "    print(doc)"
   ]
  },
  {
   "cell_type": "code",
   "execution_count": 20,
   "metadata": {},
   "outputs": [],
   "source": [
    "# 여러 문서 업데이트\n",
    "# collection.update_many({\"name\": \"john\"}, {\"$set\": {\"age\": 32}})\n",
    "\n",
    "for doc in collection.find(query):\n",
    "    print(doc)"
   ]
  },
  {
   "cell_type": "code",
   "execution_count": 17,
   "metadata": {},
   "outputs": [
    {
     "name": "stdout",
     "output_type": "stream",
     "text": [
      "{'_id': ObjectId('65a73b33d7aa206beb713923'), 'name': 'john', 'age': 32, 'city': 'New York'}\n",
      "{'_id': ObjectId('65a73b33d7aa206beb713924'), 'name': 'john', 'age': 32, 'city': 'New York'}\n",
      "{'_id': ObjectId('65a73b34d7aa206beb713925'), 'name': 'john', 'age': 32, 'city': 'New York'}\n"
     ]
    }
   ],
   "source": [
    "# 하나의 문서 삭제\n",
    "collection.delete_one({\"name\": \"john\"})\n",
    "\n",
    "for doc in collection.find(query):\n",
    "    print(doc)"
   ]
  },
  {
   "cell_type": "code",
   "execution_count": 19,
   "metadata": {},
   "outputs": [
    {
     "data": {
      "text/plain": [
       "DeleteResult({'n': 3, 'ok': 1.0}, acknowledged=True)"
      ]
     },
     "execution_count": 19,
     "metadata": {},
     "output_type": "execute_result"
    }
   ],
   "source": [
    "# 여러 문서 삭제\n",
    "collection.delete_many({\"name\": \"john\"})"
   ]
  },
  {
   "cell_type": "code",
   "execution_count": null,
   "metadata": {},
   "outputs": [],
   "source": [
    "# 콜렉션 삭제\n",
    "db.drop_collection(\"example_collection\")"
   ]
  },
  {
   "cell_type": "code",
   "execution_count": null,
   "metadata": {},
   "outputs": [],
   "source": [
    "# 데이터베이스 삭제\n",
    "client.drop_database(\"example_db\")"
   ]
  }
 ],
 "metadata": {
  "kernelspec": {
   "display_name": "Python 3",
   "language": "python",
   "name": "python3"
  },
  "language_info": {
   "codemirror_mode": {
    "name": "ipython",
    "version": 3
   },
   "file_extension": ".py",
   "mimetype": "text/x-python",
   "name": "python",
   "nbconvert_exporter": "python",
   "pygments_lexer": "ipython3",
   "version": "3.10.13"
  }
 },
 "nbformat": 4,
 "nbformat_minor": 2
}
